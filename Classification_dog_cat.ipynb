{
 "cells": [
  {
   "cell_type": "markdown",
   "metadata": {},
   "source": [
    "### Load Dataset "
   ]
  },
  {
   "cell_type": "code",
   "execution_count": 117,
   "metadata": {},
   "outputs": [],
   "source": [
    "from torch.utils.data import Dataset,DataLoader\n",
    "from torchvision.datasets import ImageFolder\n",
    "from torchvision import transforms\n",
    "import torch.nn as nn\n",
    "import torch.optim as optim\n",
    "import torch\n",
    "from tqdm.notebook import tqdm\n",
    "from torchmetrics import Accuracy"
   ]
  },
  {
   "cell_type": "code",
   "execution_count": 13,
   "metadata": {},
   "outputs": [],
   "source": [
    "class catdogdataset(Dataset):\n",
    "    def __init__(self,data_dir,transform=None) :\n",
    "        super().__init__()\n",
    "        self.data=ImageFolder(data_dir,transform)\n",
    "    def __len__(self):\n",
    "        return len(self.data)\n",
    "    def __getitem__(self, idx):\n",
    "        return self.data[idx]\n",
    "      \n"
   ]
  },
  {
   "cell_type": "code",
   "execution_count": 14,
   "metadata": {},
   "outputs": [],
   "source": [
    "data_dir=\"dataset\"\n",
    "data=catdogdataset(data_dir,transform=None)"
   ]
  },
  {
   "cell_type": "code",
   "execution_count": 15,
   "metadata": {},
   "outputs": [
    {
     "data": {
      "text/plain": [
       "10028"
      ]
     },
     "execution_count": 15,
     "metadata": {},
     "output_type": "execute_result"
    }
   ],
   "source": [
    "len(data)"
   ]
  },
  {
   "cell_type": "code",
   "execution_count": 65,
   "metadata": {},
   "outputs": [
    {
     "name": "stdout",
     "output_type": "stream",
     "text": [
      "1\n"
     ]
    },
    {
     "data": {
      "text/plain": [
       "(500, 499)"
      ]
     },
     "execution_count": 65,
     "metadata": {},
     "output_type": "execute_result"
    }
   ],
   "source": [
    "image,label=data[9333]\n",
    "print(label)\n",
    "image.size"
   ]
  },
  {
   "cell_type": "code",
   "execution_count": 66,
   "metadata": {},
   "outputs": [],
   "source": [
    "data_dir=\"dataset/test_set\""
   ]
  },
  {
   "cell_type": "code",
   "execution_count": 67,
   "metadata": {},
   "outputs": [
    {
     "name": "stdout",
     "output_type": "stream",
     "text": [
      "{0: 'cats', 1: 'dogs'}\n"
     ]
    }
   ],
   "source": [
    "target_to_class={v: k for k ,v in ImageFolder(data_dir).class_to_idx.items()}\n",
    "print(target_to_class)"
   ]
  },
  {
   "cell_type": "code",
   "execution_count": 68,
   "metadata": {},
   "outputs": [],
   "source": [
    "transform=transforms.Compose([\n",
    "    transforms.ToTensor(),\n",
    "    transforms.Resize((128,128)),\n",
    "\n",
    "])"
   ]
  },
  {
   "cell_type": "code",
   "execution_count": 69,
   "metadata": {},
   "outputs": [],
   "source": [
    "train_data_dir=\"dataset/test_set\"\n",
    "test_data_dir=\"dataset/training_set\"\n",
    "\n",
    "train_folder=catdogdataset(train_data_dir,transform=transform)\n",
    "test_folder=catdogdataset(test_data_dir,transform=transform)\n",
    "\n",
    "train_dataloader=DataLoader(train_folder,shuffle=True,batch_size=32)\n",
    "test_dataloader=DataLoader(test_folder,shuffle=True,batch_size=32)"
   ]
  },
  {
   "cell_type": "code",
   "execution_count": 70,
   "metadata": {},
   "outputs": [],
   "source": [
    "for images,labels in train_dataloader:\n",
    "    break"
   ]
  },
  {
   "cell_type": "code",
   "execution_count": 72,
   "metadata": {},
   "outputs": [
    {
     "data": {
      "text/plain": [
       "tensor([0, 0, 1, 0, 0, 1, 0, 0, 0, 0, 1, 1, 0, 0, 0, 1, 0, 1, 0, 0, 0, 1, 1, 0,\n",
       "        1, 1, 1, 0, 1, 0, 0, 0])"
      ]
     },
     "execution_count": 72,
     "metadata": {},
     "output_type": "execute_result"
    }
   ],
   "source": [
    "labels"
   ]
  },
  {
   "cell_type": "code",
   "execution_count": 71,
   "metadata": {},
   "outputs": [
    {
     "data": {
      "text/plain": [
       "tensor([[[[0.2256, 0.2309, 0.2330,  ..., 0.3210, 0.3079, 0.2660],\n",
       "          [0.2052, 0.2110, 0.2141,  ..., 0.3282, 0.3075, 0.2659],\n",
       "          [0.1956, 0.2019, 0.2084,  ..., 0.3221, 0.2749, 0.1869],\n",
       "          ...,\n",
       "          [0.1935, 0.1859, 0.1973,  ..., 0.0782, 0.0379, 0.0307],\n",
       "          [0.1820, 0.1960, 0.1985,  ..., 0.1153, 0.0714, 0.0482],\n",
       "          [0.1860, 0.1771, 0.1925,  ..., 0.1124, 0.0776, 0.0346]],\n",
       "\n",
       "         [[0.2391, 0.2444, 0.2464,  ..., 0.3401, 0.3253, 0.2838],\n",
       "          [0.2147, 0.2204, 0.2236,  ..., 0.3514, 0.3322, 0.2912],\n",
       "          [0.2048, 0.2110, 0.2175,  ..., 0.3428, 0.2907, 0.2030],\n",
       "          ...,\n",
       "          [0.1974, 0.1899, 0.2012,  ..., 0.0879, 0.0364, 0.0290],\n",
       "          [0.1859, 0.1999, 0.2024,  ..., 0.1210, 0.0618, 0.0363],\n",
       "          [0.1899, 0.1810, 0.1964,  ..., 0.1199, 0.0890, 0.0295]],\n",
       "\n",
       "         [[0.1557, 0.1611, 0.1629,  ..., 0.2010, 0.2146, 0.1744],\n",
       "          [0.1542, 0.1598, 0.1624,  ..., 0.1914, 0.1791, 0.1386],\n",
       "          [0.1469, 0.1526, 0.1586,  ..., 0.1964, 0.1866, 0.1029],\n",
       "          ...,\n",
       "          [0.1425, 0.1349, 0.1463,  ..., 0.0759, 0.0289, 0.0213],\n",
       "          [0.1310, 0.1450, 0.1475,  ..., 0.1101, 0.0559, 0.0312],\n",
       "          [0.1350, 0.1261, 0.1415,  ..., 0.1089, 0.0765, 0.0224]]],\n",
       "\n",
       "\n",
       "        [[[0.2398, 0.2317, 0.2241,  ..., 0.8164, 0.8061, 0.7965],\n",
       "          [0.2436, 0.2451, 0.2461,  ..., 0.8209, 0.8113, 0.8046],\n",
       "          [0.2383, 0.2460, 0.2555,  ..., 0.8258, 0.8189, 0.8137],\n",
       "          ...,\n",
       "          [0.0244, 0.0192, 0.0201,  ..., 0.3915, 0.3877, 0.3763],\n",
       "          [0.0260, 0.0206, 0.0214,  ..., 0.4467, 0.4373, 0.4086],\n",
       "          [0.0365, 0.0236, 0.0204,  ..., 0.4309, 0.4208, 0.3844]],\n",
       "\n",
       "         [[0.2241, 0.2160, 0.2084,  ..., 0.8124, 0.8021, 0.7926],\n",
       "          [0.2279, 0.2294, 0.2305,  ..., 0.8170, 0.8073, 0.8007],\n",
       "          [0.2227, 0.2303, 0.2398,  ..., 0.8219, 0.8150, 0.8098],\n",
       "          ...,\n",
       "          [0.1224, 0.1201, 0.1255,  ..., 0.3366, 0.3328, 0.3214],\n",
       "          [0.1240, 0.1188, 0.1232,  ..., 0.3918, 0.3824, 0.3537],\n",
       "          [0.1345, 0.1216, 0.1203,  ..., 0.3760, 0.3659, 0.3295]],\n",
       "\n",
       "         [[0.1809, 0.1728, 0.1643,  ..., 0.7968, 0.7865, 0.7769],\n",
       "          [0.1848, 0.1853, 0.1852,  ..., 0.8013, 0.7917, 0.7850],\n",
       "          [0.1795, 0.1848, 0.1928,  ..., 0.8062, 0.7993, 0.7941],\n",
       "          ...,\n",
       "          [0.0479, 0.0456, 0.0510,  ..., 0.4032, 0.3995, 0.3881],\n",
       "          [0.0495, 0.0442, 0.0487,  ..., 0.4585, 0.4490, 0.4203],\n",
       "          [0.0600, 0.0471, 0.0458,  ..., 0.4427, 0.4326, 0.3962]]],\n",
       "\n",
       "\n",
       "        [[[0.8362, 0.8561, 0.8278,  ..., 0.4538, 0.4833, 0.5208],\n",
       "          [0.8436, 0.8400, 0.8558,  ..., 0.4200, 0.4351, 0.4450],\n",
       "          [0.8688, 0.8695, 0.8633,  ..., 0.4190, 0.4209, 0.4051],\n",
       "          ...,\n",
       "          [0.6980, 0.7410, 0.6802,  ..., 0.3359, 0.4095, 0.3272],\n",
       "          [0.7577, 0.7093, 0.6768,  ..., 0.3621, 0.4783, 0.4614],\n",
       "          [0.7169, 0.6817, 0.7164,  ..., 0.5351, 0.4727, 0.4116]],\n",
       "\n",
       "         [[0.8127, 0.8282, 0.7846,  ..., 0.4767, 0.5017, 0.5270],\n",
       "          [0.8201, 0.8120, 0.8126,  ..., 0.4566, 0.4675, 0.4724],\n",
       "          [0.8453, 0.8416, 0.8201,  ..., 0.4644, 0.4642, 0.4511],\n",
       "          ...,\n",
       "          [0.6173, 0.6499, 0.5735,  ..., 0.3383, 0.3842, 0.3272],\n",
       "          [0.6594, 0.6110, 0.5745,  ..., 0.3624, 0.4397, 0.4531],\n",
       "          [0.6013, 0.5746, 0.6228,  ..., 0.5270, 0.4124, 0.3545]],\n",
       "\n",
       "         [[0.6715, 0.6874, 0.6484,  ..., 0.2496, 0.2955, 0.3410],\n",
       "          [0.6789, 0.6713, 0.6765,  ..., 0.2229, 0.2482, 0.2537],\n",
       "          [0.7041, 0.7008, 0.6840,  ..., 0.2230, 0.2295, 0.1926],\n",
       "          ...,\n",
       "          [0.4622, 0.4850, 0.3940,  ..., 0.2130, 0.2730, 0.2054],\n",
       "          [0.5067, 0.4468, 0.3959,  ..., 0.2261, 0.3122, 0.3105],\n",
       "          [0.4401, 0.4067, 0.4469,  ..., 0.3741, 0.2596, 0.1951]]],\n",
       "\n",
       "\n",
       "        ...,\n",
       "\n",
       "\n",
       "        [[[0.3913, 0.3799, 0.3537,  ..., 0.9961, 0.9988, 1.0000],\n",
       "          [0.3928, 0.3811, 0.3556,  ..., 0.9961, 0.9988, 1.0000],\n",
       "          [0.3962, 0.3847, 0.3592,  ..., 0.9961, 0.9988, 1.0000],\n",
       "          ...,\n",
       "          [0.3649, 0.5197, 0.5531,  ..., 0.4216, 0.4156, 0.3842],\n",
       "          [0.4559, 0.5222, 0.5640,  ..., 0.4314, 0.3710, 0.3581],\n",
       "          [0.4845, 0.5473, 0.5593,  ..., 0.4215, 0.3652, 0.4005]],\n",
       "\n",
       "         [[0.4328, 0.4156, 0.3872,  ..., 0.9961, 0.9988, 1.0000],\n",
       "          [0.4343, 0.4168, 0.3891,  ..., 0.9961, 0.9988, 1.0000],\n",
       "          [0.4376, 0.4204, 0.3927,  ..., 0.9961, 0.9988, 1.0000],\n",
       "          ...,\n",
       "          [0.3806, 0.5354, 0.5688,  ..., 0.3174, 0.3095, 0.2753],\n",
       "          [0.4716, 0.5378, 0.5797,  ..., 0.3273, 0.2649, 0.2492],\n",
       "          [0.5002, 0.5630, 0.5750,  ..., 0.3174, 0.2591, 0.2915]],\n",
       "\n",
       "         [[0.4493, 0.4350, 0.4033,  ..., 0.9961, 0.9988, 1.0000],\n",
       "          [0.4508, 0.4362, 0.4052,  ..., 0.9961, 0.9988, 1.0000],\n",
       "          [0.4541, 0.4398, 0.4088,  ..., 0.9961, 0.9988, 1.0000],\n",
       "          ...,\n",
       "          [0.3767, 0.5314, 0.5649,  ..., 0.2508, 0.2369, 0.1946],\n",
       "          [0.4677, 0.5339, 0.5757,  ..., 0.2606, 0.1923, 0.1685],\n",
       "          [0.4963, 0.5590, 0.5711,  ..., 0.2507, 0.1865, 0.2109]]],\n",
       "\n",
       "\n",
       "        [[[0.5242, 0.5327, 0.5440,  ..., 0.5188, 0.5164, 0.5111],\n",
       "          [0.5289, 0.5350, 0.5441,  ..., 0.5216, 0.5143, 0.5064],\n",
       "          [0.5326, 0.5367, 0.5430,  ..., 0.5227, 0.5100, 0.5034],\n",
       "          ...,\n",
       "          [0.9750, 0.9761, 0.9778,  ..., 0.9086, 0.9020, 0.8964],\n",
       "          [0.9858, 0.9811, 0.9768,  ..., 0.9079, 0.9076, 0.9064],\n",
       "          [0.9962, 0.9878, 0.9786,  ..., 0.9112, 0.9167, 0.9200]],\n",
       "\n",
       "         [[0.5242, 0.5327, 0.5440,  ..., 0.5188, 0.5164, 0.5111],\n",
       "          [0.5289, 0.5350, 0.5441,  ..., 0.5216, 0.5143, 0.5064],\n",
       "          [0.5326, 0.5367, 0.5430,  ..., 0.5227, 0.5100, 0.5034],\n",
       "          ...,\n",
       "          [0.9750, 0.9761, 0.9778,  ..., 0.9047, 0.8980, 0.8925],\n",
       "          [0.9858, 0.9811, 0.9768,  ..., 0.9040, 0.9037, 0.9025],\n",
       "          [0.9962, 0.9878, 0.9786,  ..., 0.9073, 0.9128, 0.9161]],\n",
       "\n",
       "         [[0.5242, 0.5327, 0.5440,  ..., 0.5188, 0.5164, 0.5111],\n",
       "          [0.5289, 0.5350, 0.5441,  ..., 0.5216, 0.5143, 0.5064],\n",
       "          [0.5326, 0.5367, 0.5430,  ..., 0.5227, 0.5100, 0.5034],\n",
       "          ...,\n",
       "          [0.9750, 0.9761, 0.9778,  ..., 0.9282, 0.9216, 0.9160],\n",
       "          [0.9858, 0.9811, 0.9768,  ..., 0.9275, 0.9272, 0.9260],\n",
       "          [0.9962, 0.9878, 0.9786,  ..., 0.9308, 0.9363, 0.9396]]],\n",
       "\n",
       "\n",
       "        [[[1.0000, 1.0000, 1.0000,  ..., 1.0000, 1.0000, 1.0000],\n",
       "          [1.0000, 1.0000, 1.0000,  ..., 1.0000, 1.0000, 1.0000],\n",
       "          [1.0000, 1.0000, 1.0000,  ..., 1.0000, 1.0000, 1.0000],\n",
       "          ...,\n",
       "          [1.0000, 1.0000, 1.0000,  ..., 1.0000, 1.0000, 1.0000],\n",
       "          [1.0000, 1.0000, 1.0000,  ..., 1.0000, 1.0000, 1.0000],\n",
       "          [1.0000, 1.0000, 1.0000,  ..., 1.0000, 1.0000, 1.0000]],\n",
       "\n",
       "         [[1.0000, 1.0000, 1.0000,  ..., 1.0000, 1.0000, 1.0000],\n",
       "          [1.0000, 1.0000, 1.0000,  ..., 1.0000, 1.0000, 1.0000],\n",
       "          [1.0000, 1.0000, 1.0000,  ..., 1.0000, 1.0000, 1.0000],\n",
       "          ...,\n",
       "          [1.0000, 1.0000, 1.0000,  ..., 1.0000, 1.0000, 1.0000],\n",
       "          [1.0000, 1.0000, 1.0000,  ..., 1.0000, 1.0000, 1.0000],\n",
       "          [1.0000, 1.0000, 1.0000,  ..., 1.0000, 1.0000, 1.0000]],\n",
       "\n",
       "         [[1.0000, 1.0000, 1.0000,  ..., 1.0000, 1.0000, 1.0000],\n",
       "          [1.0000, 1.0000, 1.0000,  ..., 1.0000, 1.0000, 1.0000],\n",
       "          [1.0000, 1.0000, 1.0000,  ..., 1.0000, 1.0000, 1.0000],\n",
       "          ...,\n",
       "          [1.0000, 1.0000, 1.0000,  ..., 1.0000, 1.0000, 1.0000],\n",
       "          [1.0000, 1.0000, 1.0000,  ..., 1.0000, 1.0000, 1.0000],\n",
       "          [1.0000, 1.0000, 1.0000,  ..., 1.0000, 1.0000, 1.0000]]]])"
      ]
     },
     "execution_count": 71,
     "metadata": {},
     "output_type": "execute_result"
    }
   ],
   "source": [
    "images"
   ]
  },
  {
   "cell_type": "markdown",
   "metadata": {},
   "source": [
    "### CNN Model"
   ]
  },
  {
   "cell_type": "code",
   "execution_count": 109,
   "metadata": {},
   "outputs": [],
   "source": [
    "class model(nn.Module):\n",
    "    def __init__(self, num_classes):\n",
    "        super().__init__()\n",
    "        self.feature_extraction = nn.Sequential(\n",
    "            nn.Conv2d(3, 32, kernel_size=3, padding=1),\n",
    "            nn.ELU(),\n",
    "            nn.MaxPool2d(kernel_size=2),\n",
    "            nn.Conv2d(32, 64, kernel_size=3, padding=1),\n",
    "            nn.ELU(),\n",
    "            nn.MaxPool2d(kernel_size=2),\n",
    "            nn.Flatten()\n",
    "        )\n",
    "        self.classifier=nn.Linear(64*64*16,num_classes)\n",
    "    def forward(self,x):\n",
    "        x=self.feature_extraction(x)\n",
    "        x=self.classifier(x)\n",
    "        return x    \n",
    "    "
   ]
  },
  {
   "cell_type": "code",
   "execution_count": 110,
   "metadata": {},
   "outputs": [],
   "source": [
    "model=model(num_classes=2)"
   ]
  },
  {
   "cell_type": "code",
   "execution_count": 111,
   "metadata": {},
   "outputs": [
    {
     "data": {
      "text/plain": [
       "model(\n",
       "  (feature_extraction): Sequential(\n",
       "    (0): Conv2d(3, 32, kernel_size=(3, 3), stride=(1, 1), padding=(1, 1))\n",
       "    (1): ELU(alpha=1.0)\n",
       "    (2): MaxPool2d(kernel_size=2, stride=2, padding=0, dilation=1, ceil_mode=False)\n",
       "    (3): Conv2d(32, 64, kernel_size=(3, 3), stride=(1, 1), padding=(1, 1))\n",
       "    (4): ELU(alpha=1.0)\n",
       "    (5): MaxPool2d(kernel_size=2, stride=2, padding=0, dilation=1, ceil_mode=False)\n",
       "    (6): Flatten(start_dim=1, end_dim=-1)\n",
       "  )\n",
       "  (classifier): Linear(in_features=65536, out_features=2, bias=True)\n",
       ")"
      ]
     },
     "execution_count": 111,
     "metadata": {},
     "output_type": "execute_result"
    }
   ],
   "source": [
    "device = torch.device(\"cuda:0\" if torch.cuda.is_available() else \"cpu\")\n",
    "model.to(device)"
   ]
  },
  {
   "cell_type": "markdown",
   "metadata": {},
   "source": [
    "### Training Loop"
   ]
  },
  {
   "cell_type": "code",
   "execution_count": 115,
   "metadata": {},
   "outputs": [
    {
     "data": {
      "application/vnd.jupyter.widget-view+json": {
       "model_id": "33841cb9b9ea4b8ea7be43bb37fac3f2",
       "version_major": 2,
       "version_minor": 0
      },
      "text/plain": [
       "Training loop:   0%|          | 0/64 [00:00<?, ?it/s]"
      ]
     },
     "metadata": {},
     "output_type": "display_data"
    },
    {
     "name": "stdout",
     "output_type": "stream",
     "text": [
      "Epoch 1/10 - Train loss: 0.4382036093639019\n"
     ]
    },
    {
     "data": {
      "application/vnd.jupyter.widget-view+json": {
       "model_id": "453321ef67094fd69f1e5e864006a043",
       "version_major": 2,
       "version_minor": 0
      },
      "text/plain": [
       "Training loop:   0%|          | 0/64 [00:00<?, ?it/s]"
      ]
     },
     "metadata": {},
     "output_type": "display_data"
    },
    {
     "name": "stdout",
     "output_type": "stream",
     "text": [
      "Epoch 2/10 - Train loss: 0.3229264483128334\n"
     ]
    },
    {
     "data": {
      "application/vnd.jupyter.widget-view+json": {
       "model_id": "989a0987ee5d4bdb898eb1a3a5102631",
       "version_major": 2,
       "version_minor": 0
      },
      "text/plain": [
       "Training loop:   0%|          | 0/64 [00:00<?, ?it/s]"
      ]
     },
     "metadata": {},
     "output_type": "display_data"
    },
    {
     "name": "stdout",
     "output_type": "stream",
     "text": [
      "Epoch 3/10 - Train loss: 0.24045617101337435\n"
     ]
    },
    {
     "data": {
      "application/vnd.jupyter.widget-view+json": {
       "model_id": "29c6a485ab9d4b02a65c364bb0914c68",
       "version_major": 2,
       "version_minor": 0
      },
      "text/plain": [
       "Training loop:   0%|          | 0/64 [00:00<?, ?it/s]"
      ]
     },
     "metadata": {},
     "output_type": "display_data"
    },
    {
     "name": "stdout",
     "output_type": "stream",
     "text": [
      "Epoch 4/10 - Train loss: 0.18517665210715392\n"
     ]
    },
    {
     "data": {
      "application/vnd.jupyter.widget-view+json": {
       "model_id": "e1fad87d89dc4b3eb2324ab88dbfb67a",
       "version_major": 2,
       "version_minor": 0
      },
      "text/plain": [
       "Training loop:   0%|          | 0/64 [00:00<?, ?it/s]"
      ]
     },
     "metadata": {},
     "output_type": "display_data"
    },
    {
     "name": "stdout",
     "output_type": "stream",
     "text": [
      "Epoch 5/10 - Train loss: 0.1251847355456648\n"
     ]
    },
    {
     "data": {
      "application/vnd.jupyter.widget-view+json": {
       "model_id": "cd645fe329f54b489c39e37d5b31a5ec",
       "version_major": 2,
       "version_minor": 0
      },
      "text/plain": [
       "Training loop:   0%|          | 0/64 [00:00<?, ?it/s]"
      ]
     },
     "metadata": {},
     "output_type": "display_data"
    },
    {
     "name": "stdout",
     "output_type": "stream",
     "text": [
      "Epoch 6/10 - Train loss: 0.07083687116265355\n"
     ]
    },
    {
     "data": {
      "application/vnd.jupyter.widget-view+json": {
       "model_id": "22146f50fb6c4cf49610b44720236089",
       "version_major": 2,
       "version_minor": 0
      },
      "text/plain": [
       "Training loop:   0%|          | 0/64 [00:00<?, ?it/s]"
      ]
     },
     "metadata": {},
     "output_type": "display_data"
    },
    {
     "name": "stdout",
     "output_type": "stream",
     "text": [
      "Epoch 7/10 - Train loss: 0.042060858897360255\n"
     ]
    },
    {
     "data": {
      "application/vnd.jupyter.widget-view+json": {
       "model_id": "f63484e8ec0f40feaea4623095cf0397",
       "version_major": 2,
       "version_minor": 0
      },
      "text/plain": [
       "Training loop:   0%|          | 0/64 [00:00<?, ?it/s]"
      ]
     },
     "metadata": {},
     "output_type": "display_data"
    },
    {
     "name": "stdout",
     "output_type": "stream",
     "text": [
      "Epoch 8/10 - Train loss: 0.024081244791277375\n"
     ]
    },
    {
     "data": {
      "application/vnd.jupyter.widget-view+json": {
       "model_id": "bb3d75eb0aad4a289b9ceaac366c607c",
       "version_major": 2,
       "version_minor": 0
      },
      "text/plain": [
       "Training loop:   0%|          | 0/64 [00:00<?, ?it/s]"
      ]
     },
     "metadata": {},
     "output_type": "display_data"
    },
    {
     "name": "stdout",
     "output_type": "stream",
     "text": [
      "Epoch 9/10 - Train loss: 0.015196415400054274\n"
     ]
    },
    {
     "data": {
      "application/vnd.jupyter.widget-view+json": {
       "model_id": "7430d502ca7b49f59d72eada14a54134",
       "version_major": 2,
       "version_minor": 0
      },
      "text/plain": [
       "Training loop:   0%|          | 0/64 [00:00<?, ?it/s]"
      ]
     },
     "metadata": {},
     "output_type": "display_data"
    },
    {
     "name": "stdout",
     "output_type": "stream",
     "text": [
      "Epoch 10/10 - Train loss: 0.00963363499673902\n"
     ]
    }
   ],
   "source": [
    "train_losses, val_losses = [], []\n",
    "num_epochs=10\n",
    "criterion=nn.CrossEntropyLoss()\n",
    "optimizer=optim.Adam(model.parameters(),lr=0.001)\n",
    "for epoch in range(num_epochs):\n",
    "    model.train()\n",
    "    running_loss = 0.0\n",
    "    for images,labels in tqdm(train_dataloader, desc='Training loop'):\n",
    "        optimizer.zero_grad()\n",
    "        output = model(images).squeeze()  # Squeeze to match the label's shape if needed\n",
    "        loss = criterion(output, labels)  \n",
    "        loss.backward()\n",
    "        optimizer.step()\n",
    "        running_loss += loss.item() * labels.size(0)\n",
    "    train_loss = running_loss / len(train_dataloader.dataset)\n",
    "    train_losses.append(train_loss)\n",
    "\n",
    "\n",
    "    print(f\"Epoch {epoch+1}/{num_epochs} - Train loss: {train_loss}\")\n",
    "    \n"
   ]
  },
  {
   "cell_type": "code",
   "execution_count": 122,
   "metadata": {},
   "outputs": [
    {
     "name": "stdout",
     "output_type": "stream",
     "text": [
      "Accuracy:0.657963752746582\n"
     ]
    }
   ],
   "source": [
    "\n",
    "acc=Accuracy(task=\"binary\")\n",
    "model.eval()\n",
    "with torch.no_grad():\n",
    "    for images,labels in test_dataloader:\n",
    "        output=model(images)\n",
    "        preds = torch.argmax(output, dim=1)\n",
    "\n",
    "        acc(preds,labels.view(-1))\n",
    "\n",
    "accuracy=acc.compute()\n",
    "print(f\"Accuracy:{accuracy}\")"
   ]
  },
  {
   "cell_type": "code",
   "execution_count": null,
   "metadata": {},
   "outputs": [],
   "source": []
  },
  {
   "cell_type": "code",
   "execution_count": null,
   "metadata": {},
   "outputs": [],
   "source": []
  }
 ],
 "metadata": {
  "kernelspec": {
   "display_name": "pfa",
   "language": "python",
   "name": "python3"
  },
  "language_info": {
   "codemirror_mode": {
    "name": "ipython",
    "version": 3
   },
   "file_extension": ".py",
   "mimetype": "text/x-python",
   "name": "python",
   "nbconvert_exporter": "python",
   "pygments_lexer": "ipython3",
   "version": "3.11.8"
  }
 },
 "nbformat": 4,
 "nbformat_minor": 2
}
